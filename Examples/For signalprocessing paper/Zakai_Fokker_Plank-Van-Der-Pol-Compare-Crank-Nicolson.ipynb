{
 "cells": [
  {
   "cell_type": "code",
   "execution_count": 1,
   "id": "dafc1088",
   "metadata": {},
   "outputs": [],
   "source": [
    "import os\n",
    "import multiprocessing\n",
    "os.environ[\"CUDA_VISIBLE_DEVICES\"] = \"\"\n",
    "# os.environ[\"XLA_FLAGS\"] = \"--xla_force_host_platform_device_count={}\".format(\n",
    "#     multiprocessing.cpu_count())"
   ]
  },
  {
   "cell_type": "code",
   "execution_count": 2,
   "id": "339ba869",
   "metadata": {},
   "outputs": [],
   "source": [
    "import jax.numpy as jnp\n",
    "import jax\n",
    "import matplotlib.pyplot as plt\n",
    "import seaborn as sns\n",
    "import sympy as sp\n",
    "import numpy as onp\n",
    "import jax.random as jrandom\n",
    "from functools import partial\n",
    "from collections import namedtuple\n",
    "from jax.random import PRNGKey\n",
    "from jax import partial\n",
    "import itertools\n",
    "flatten = itertools.chain.from_iterable\n",
    "import matplotlib.animation as animation\n",
    "from mpl_toolkits.axes_grid1.inset_locator import inset_axes\n",
    "from IPython.display import Video\n",
    "from mpl_toolkits.mplot3d import axes3d\n",
    "import importlib\n",
    "from tqdm import tqdm\n",
    "from jax.lax import scan\n",
    "from jax import jit\n",
    "#enable double precision\n",
    "# from jax.config import config\n",
    "# config.update(\"jax_enable_x64\", True)"
   ]
  },
  {
   "cell_type": "code",
   "execution_count": 3,
   "id": "4ce43015",
   "metadata": {},
   "outputs": [],
   "source": [
    "sns.set_context('notebook')\n",
    "plt.rcParams['font.family'] = 'VictorMono Nerd Font'\n",
    "plt.rcParams['mathtext.rm'] = 'VictorMono Nerd Font ExtraLight'\n",
    "plt.rcParams['mathtext.it'] = 'VictorMono Nerd Font ExtraLight Italic'\n",
    "plt.rcParams['mathtext.bf'] = 'VictorMono Nerd Font Light'\n",
    "plt.rcParams['mathtext.default'] = 'rm'\n",
    "# plt.rcParams['mathtext.fontset'] = 'stix'\n",
    "SMALL_SIZE = 12\n",
    "MEDIUM_SIZE = 14\n",
    "BIGGER_SIZE = 16\n",
    "plt.rc('font', size=SMALL_SIZE)  # controls default text sizes\n",
    "plt.rc('axes', titlesize=SMALL_SIZE)  # fontsize of the axes title\n",
    "plt.rc('axes', labelsize=MEDIUM_SIZE)  # fontsize of the x and y labels\n",
    "plt.rc('xtick', labelsize=MEDIUM_SIZE)  # fontsize of the tick labels\n",
    "plt.rc('ytick', labelsize=MEDIUM_SIZE)  # fontsize of the tick labels\n",
    "plt.rc('legend', fontsize=BIGGER_SIZE)  # legend fontsize\n",
    "plt.rc('figure', titlesize=BIGGER_SIZE)  # fontsize of the figure title"
   ]
  },
  {
   "cell_type": "markdown",
   "id": "53122203",
   "metadata": {},
   "source": [
    "In this notebook we demonstrate a simulation of one dimensional Fokker-Plank dynamics and Zakai nonlinear filtering dynamics."
   ]
  },
  {
   "cell_type": "code",
   "execution_count": 4,
   "id": "3a34862a",
   "metadata": {},
   "outputs": [
    {
     "name": "stdout",
     "output_type": "stream",
     "text": [
      "/home/muhammad/GitHub/AutomaticParticleFilter/Examples/For signalprocessing paper\n"
     ]
    }
   ],
   "source": [
    "!pwd"
   ]
  },
  {
   "cell_type": "code",
   "execution_count": 5,
   "id": "fb6be0d5",
   "metadata": {},
   "outputs": [
    {
     "name": "stdout",
     "output_type": "stream",
     "text": [
      "/home/muhammad/GitHub/AutomaticParticleFilter/Examples\n",
      "/home/muhammad/GitHub/AutomaticParticleFilter\n"
     ]
    }
   ],
   "source": [
    "%cd ..\n",
    "%cd .."
   ]
  },
  {
   "cell_type": "code",
   "execution_count": 6,
   "id": "13b59105",
   "metadata": {},
   "outputs": [
    {
     "name": "stderr",
     "output_type": "stream",
     "text": [
      "WARNING:absl:No GPU/TPU found, falling back to CPU. (Set TF_CPP_MIN_LOG_LEVEL=0 and rerun for more info.)\n"
     ]
    }
   ],
   "source": [
    "import projection_filter.n_d_exponential_family_projection_filter as pf\n",
    "import numerical_pde_nonlinear_filtering.two_d_nonlinear_filter_via_pde_time_independent as two_d\n",
    "import symbolic.one_d\n",
    "import symbolic.n_d as n_d\n",
    "from sde import SDESolverTypes, sde_solver\n",
    "from sde.wiener import multidimensional_wiener_process\n",
    "import other_filter.particlefilter as par_f"
   ]
  },
  {
   "cell_type": "code",
   "execution_count": 7,
   "id": "d60ae90b",
   "metadata": {},
   "outputs": [
    {
     "data": {
      "text/plain": [
       "<module 'numerical_pde_nonlinear_filtering.two_d_nonlinear_filter_via_pde_time_independent' from '/home/muhammad/GitHub/AutomaticParticleFilter/numerical_pde_nonlinear_filtering/two_d_nonlinear_filter_via_pde_time_independent.py'>"
      ]
     },
     "execution_count": 7,
     "metadata": {},
     "output_type": "execute_result"
    }
   ],
   "source": [
    "importlib.reload(two_d)"
   ]
  },
  {
   "cell_type": "code",
   "execution_count": 8,
   "id": "39739ee3",
   "metadata": {},
   "outputs": [],
   "source": [
    "MU= 0.3 # DEFAULT 0.6\n",
    "SIGMA_W = 1e-0\n",
    "SIGMA_V = 1e-0\n",
    "\n",
    "def F(x, t):\n",
    "    return jnp.array([x[1], \n",
    "                      MU * (1. - x[0] * x[0]) * x[1] - x[0], \n",
    "                      x[0]])  # Default\n",
    "\n",
    "\n",
    "def G(x, t):\n",
    "    return jnp.array([[0., 0.], \n",
    "                      [SIGMA_W, 0.], \n",
    "                      [0., SIGMA_V]])\n",
    "\n",
    "x, dw, dv = sp.symbols(('x1:3', 'dw1:3', 'dv1:3'))\n",
    "t = sp.symbols('t')\n",
    "\n",
    "f = sp.Matrix([x[1], MU * (1. - x[0] * x[0]) * x[1] - x[0]])\n",
    "g = sp.Matrix([[0], [SIGMA_W]])\n",
    "\n",
    "# FOR ALL COMPARISON\n",
    "nt = 7501 # Default is 4000\n",
    "dt = 2.5e-4  # default is 2.5e-4\n",
    "\n",
    "# FOR BRIGO-PARTICLE COMPARISON\n",
    "# nt = 15001\n",
    "\n",
    "tspan = jnp.arange(nt) * dt\n",
    "dW = multidimensional_wiener_process((nt, 2), dt, PRNGKey(15))\n",
    "\n",
    "# functions for pde filter\n",
    "@partial(jnp.vectorize, signature='(n)->(n)', excluded=(1,))\n",
    "def f_dynamic_cont(x, t):\n",
    "    return jnp.array([x[1], MU * (1. - x[0] * x[0]) * x[1] - x[0]])\n",
    "\n",
    "\n",
    "@partial(jnp.vectorize, signature='(n)->(n,m)', excluded=(1,))\n",
    "def g_dynamic_cont(x, t):\n",
    "    return jnp.array([[0], [SIGMA_W]])\n",
    "\n",
    "\n",
    "@partial(jnp.vectorize, signature='(n)->(1)', excluded=(1,))\n",
    "def h_meas_cont(x, t):\n",
    "    return jnp.array([x[0]])\n",
    "\n",
    "\n",
    "# functions for particle filter\n",
    "@partial(jnp.vectorize, signature='(n)->(n)')\n",
    "def f_dynamic(x):\n",
    "    return x + f_dynamic_cont(x, 0) * dt\n",
    "\n",
    "\n",
    "@partial(jnp.vectorize, signature='(n)->(1)')\n",
    "def h_meas(x):\n",
    "    return h_meas_cont(x, 0) * dt\n",
    "\n",
    "dynamic_sde = symbolic.one_d.SDE(f, g, t, x, dw)\n",
    "measurement_sde = symbolic.one_d.SDE(drifts=sp.Matrix([x[0]]), \n",
    "                                     diffusions=sp.Matrix([[SIGMA_V]]), time=t,\n",
    "                                     variables=x,\n",
    "                                     brownians=dv)\n",
    "init_mean = jnp.array([0.0, 0.])\n",
    "stdev_init_scale = 1e1\n",
    "var_core = jnp.diag(jnp.array([0.5,0.5]))\n",
    "var_init = ((stdev_init_scale*SIGMA_W*jnp.sqrt(dt)) ** 2) * var_core  #\n",
    "var_init_inv = jnp.linalg.solve(var_init, jnp.eye(2))\n",
    "theta_1 = var_init_inv @ init_mean\n",
    "theta_2 = -0.5 * jnp.array([var_init_inv[0, 0], 2 * var_init_inv[0, 1], var_init_inv[1, 1]])\n",
    "        \n",
    "X0 = onp.array([init_mean[0], init_mean[1], init_mean[0]])\n",
    "X_integrated = sde_solver(F, G, X0, tspan, dW, solver_type=SDESolverTypes.ItoEulerMaruyama)\n",
    "measurement_record = X_integrated[:, 2:]\n",
    "\n",
    "\n",
    "# For Gaussian Case\n",
    "# natural_statistics_symbolic = sp.Matrix([x[1], x[1] ** 2,\n",
    "#                                          x[0], x[0] * x[1], x[0] ** 2])\n",
    "# initial_condition = jnp.array([theta_1[1], theta_2[2], theta_1[0], theta_2[1], theta_2[0]])\n",
    "\n",
    "# for dimension of the space of parameter is Four\n",
    "natural_statistics_symbolic = sp.Matrix([x[1], x[1] ** 2, x[1] ** 3, x[1] ** 4,\n",
    "                                         x[0], x[0] * x[1], x[0] * x[1] ** 2, x[0] * x[1] ** 3,\n",
    "                                         x[0] ** 2, x[0] ** 2 * x[1], x[0] ** 2 * x[1] ** 2,\n",
    "                                         x[0] ** 3, x[0] ** 3 * x[1],\n",
    "                                         x[0] ** 4])\n",
    "initial_state_str = 'gaussian'\n",
    "if initial_state_str.lower() == 'non_gaussian':\n",
    "    initial_condition = jnp.array([theta_1[1], theta_2[2], 0, -5,\n",
    "                                  theta_1[0], theta_2[1], 0., 0.,\n",
    "                                   theta_2[0], 0., 0.,\n",
    "                                   0, 0.,\n",
    "                                   -5])\n",
    "else:\n",
    "    initial_condition = jnp.array([theta_1[1], theta_2[2], 0., 0.,\n",
    "                                   theta_1[0], theta_2[1], 0., 0.,\n",
    "                                   theta_2[0], 0., 0.,\n",
    "                                   0., 0.,\n",
    "                                   0.])"
   ]
  },
  {
   "cell_type": "code",
   "execution_count": 9,
   "id": "8d6cbd89",
   "metadata": {},
   "outputs": [],
   "source": [
    "x_max = 5.\n",
    "x_lim = jnp.array([-x_max,x_max])\n",
    "nb_of_points = jnp.array([1000],dtype=jnp.int32) #default 1000\n",
    "dx =  2*x_max/nb_of_points\n",
    "bijection_type='custom2'\n",
    "if bijection_type == 'arctanh':\n",
    "    def bijection(x):\n",
    "        return jnp.arctanh(x)\n",
    "elif bijection_type == 'boyd':\n",
    "    def bijection(x):\n",
    "        return x/((1-x*x))\n",
    "elif bijection_type == 'linear':\n",
    "    def bijection(x):\n",
    "        return x_max*x\n",
    "elif bijection_type == 'custom1':\n",
    "    def bijection(x):\n",
    "         return 4*jnp.power(x,1)/jnp.power(1-x*x,1/32)\n",
    "elif bijection_type == 'custom2':\n",
    "    def bijection(x):\n",
    "         return 1.5*jnp.arctanh(x)"
   ]
  },
  {
   "cell_type": "code",
   "execution_count": 10,
   "id": "07d8ffde",
   "metadata": {},
   "outputs": [],
   "source": [
    "em_pf = pf.MultiDimensionalSStarProjectionFilter(dynamic_sde,\n",
    "                                                 measurement_sde,\n",
    "                                                 natural_statistics_symbolic,\n",
    "                                                 constants=None,\n",
    "                                                 initial_condition=initial_condition,\n",
    "                                                 measurement_record=measurement_record,\n",
    "                                                 delta_t=dt,\n",
    "                                                 bijection=bijection,\n",
    "                                                 level=8,\n",
    "                                                 integrator='spg',\n",
    "                                                 nodes_number=20000,\n",
    "                                                 epsilon=1e-8,\n",
    "                                                 ode_solver='euler',\n",
    "                                                 sRule=\"gauss-patterson\")"
   ]
  },
  {
   "cell_type": "code",
   "execution_count": 11,
   "id": "c10dfa23",
   "metadata": {},
   "outputs": [
    {
     "data": {
      "text/plain": [
       "4097"
      ]
     },
     "execution_count": 11,
     "metadata": {},
     "output_type": "execute_result"
    }
   ],
   "source": [
    "em_pf.exponential_density.nodes_number"
   ]
  },
  {
   "cell_type": "code",
   "execution_count": 12,
   "id": "f075ef3c",
   "metadata": {},
   "outputs": [
    {
     "data": {
      "text/plain": [
       "<matplotlib.collections.PathCollection at 0x7f082269bca0>"
      ]
     },
     "execution_count": 12,
     "metadata": {},
     "output_type": "execute_result"
    },
    {
     "data": {
      "image/png": "[encoded data removed]",
      "text/plain": [
       "<Figure size 432x288 with 1 Axes>"
      ]
     },
     "metadata": {
      "needs_background": "light"
     },
     "output_type": "display_data"
    }
   ],
   "source": [
    "plt.scatter(em_pf.exponential_density.bijected_points[:,0],em_pf.exponential_density.bijected_points[:,1],s=0.5)\n",
    "# plt.scatter(em_pf.exponential_density.quadrature_points[:,0],em_pf.exponential_density.quadrature_points[:,1],s=1)"
   ]
  },
  {
   "cell_type": "code",
   "execution_count": 13,
   "id": "34d1a4c2",
   "metadata": {},
   "outputs": [
    {
     "data": {
      "text/plain": [
       "[<matplotlib.lines.Line2D at 0x7f0821fb2d00>,\n",
       " <matplotlib.lines.Line2D at 0x7f0821e97b50>,\n",
       " <matplotlib.lines.Line2D at 0x7f0821e97a60>,\n",
       " <matplotlib.lines.Line2D at 0x7f0821e97ca0>,\n",
       " <matplotlib.lines.Line2D at 0x7f0821e97c10>,\n",
       " <matplotlib.lines.Line2D at 0x7f0821e97970>,\n",
       " <matplotlib.lines.Line2D at 0x7f0821e97e50>,\n",
       " <matplotlib.lines.Line2D at 0x7f0821e97ac0>,\n",
       " <matplotlib.lines.Line2D at 0x7f0821ea13a0>,\n",
       " <matplotlib.lines.Line2D at 0x7f0821ea1460>,\n",
       " <matplotlib.lines.Line2D at 0x7f0821e80490>,\n",
       " <matplotlib.lines.Line2D at 0x7f0821ea1100>,\n",
       " <matplotlib.lines.Line2D at 0x7f0821ea1670>,\n",
       " <matplotlib.lines.Line2D at 0x7f0821ea1730>]"
      ]
     },
     "execution_count": 13,
     "metadata": {},
     "output_type": "execute_result"
    },
    {
     "data": {
      "image/png": "[encoded data removed]",
      "text/plain": [
       "<Figure size 432x288 with 1 Axes>"
      ]
     },
     "metadata": {
      "needs_background": "light"
     },
     "output_type": "display_data"
    }
   ],
   "source": [
    "em_pf.propagate()\n",
    "plt.plot(tspan[1:],em_pf.state_history)"
   ]
  },
  {
   "cell_type": "code",
   "execution_count": 14,
   "id": "33e7da25",
   "metadata": {},
   "outputs": [],
   "source": [
    "max_limit = 5\n",
    "num_point = 150\n",
    "grid_limits = jnp.array([[-max_limit,max_limit],[-max_limit,max_limit]])\n",
    "num_points = jnp.array([num_point,num_point], dtype=jnp.int32)\n",
    "dxs = jnp.diff(grid_limits,axis=-1).squeeze()/num_points\n",
    "bins = num_points\n",
    "interpolation= 'lanczos'\n",
    "ranges= grid_limits"
   ]
  },
  {
   "cell_type": "code",
   "execution_count": 15,
   "id": "95e0c24f",
   "metadata": {},
   "outputs": [],
   "source": [
    "grids, pf_density_history = em_pf.get_density_values(grid_limits,num_points)"
   ]
  },
  {
   "cell_type": "code",
   "execution_count": 16,
   "id": "923217a9",
   "metadata": {},
   "outputs": [],
   "source": [
    "process_cov = dt*(SIGMA_W**2)*jnp.array([[0.,0.],[0.,1.]])\n",
    "meas_cov = dt*(SIGMA_V**2)*jnp.eye(1)\n",
    "dy = jnp.diff(measurement_record,axis=0)\n",
    "n_devices=jax.local_device_count()\n",
    "n_particle_per_device= 2500 #1250\n",
    "prng_key = PRNGKey(3123)\n",
    "\n",
    "prng_key, subkey = jrandom.split(prng_key)\n",
    "W_0 = jrandom.normal(subkey,(n_devices,n_particle_per_device,2))\n",
    "state_init = init_mean+jnp.sqrt(jnp.diag(var_init))*W_0"
   ]
  },
  {
   "cell_type": "code",
   "execution_count": 17,
   "id": "a9534ec8",
   "metadata": {},
   "outputs": [
    {
     "data": {
      "text/plain": [
       "DeviceArray(0.00444445, dtype=float32)"
      ]
     },
     "execution_count": 17,
     "metadata": {},
     "output_type": "execute_result"
    }
   ],
   "source": [
    "jnp.prod(dxs)"
   ]
  },
  {
   "cell_type": "code",
   "execution_count": 18,
   "id": "60385ace",
   "metadata": {},
   "outputs": [],
   "source": [
    "grids, pf_density_history = em_pf.get_density_values(grid_limits,num_points)\n",
    "pde_filter = two_d.TwoDNonLinearFilterPDE(one_d_grids=(grids[0, :, 0], grids[0, :, 0]),\n",
    "                                          dynamic_drift=f_dynamic_cont,\n",
    "                                          dynamic_diffusion=g_dynamic_cont,\n",
    "                                          measurement_drift=h_meas_cont,\n",
    "                                          initial_condition=pf_density_history[0].T,\n",
    "                                          delta_t=dt,\n",
    "                                          measurement_record=measurement_record,\n",
    "                                          measurement_stdev=SIGMA_V)\n",
    "density_history = pde_filter.propagate_zakai()"
   ]
  },
  {
   "cell_type": "code",
   "execution_count": 19,
   "id": "ff1b1853",
   "metadata": {},
   "outputs": [],
   "source": [
    "particle_filter = par_f.ParticleFilter(n_devices=n_devices,\n",
    "                                     n_particle_per_device=n_particle_per_device,\n",
    "                                     state_init=state_init,\n",
    "                                     measurement_history=dy,\n",
    "                                     transition_fun=f_dynamic,\n",
    "                                     output_fun=h_meas,\n",
    "                                     constraint=None,\n",
    "                                     process_cov=process_cov,\n",
    "                                     meas_cov=meas_cov,\n",
    "                                     prng_key=prng_key)\n",
    "\n",
    "(neg_log_likelihood_end, state_end, x_particle_history,\n",
    " neg_likelihood_history, log_weights_history,\n",
    " estimated_state_history) = particle_filter.run()\n",
    "x_particle_history = x_particle_history.reshape((tspan.shape[0]-1,n_devices*n_particle_per_device,2))"
   ]
  },
  {
   "cell_type": "code",
   "execution_count": 20,
   "id": "95cbcfc1",
   "metadata": {},
   "outputs": [
    {
     "data": {
      "text/plain": [
       "(7500, 2500, 2)"
      ]
     },
     "execution_count": 20,
     "metadata": {},
     "output_type": "execute_result"
    }
   ],
   "source": [
    "x_particle_history.shape"
   ]
  },
  {
   "cell_type": "code",
   "execution_count": 31,
   "id": "45dd6bdb",
   "metadata": {},
   "outputs": [
    {
     "name": "stdout",
     "output_type": "stream",
     "text": [
      "Stored 'density_history' (DeviceArray)\n",
      "Stored 'x_particle_history' (DeviceArray)\n"
     ]
    }
   ],
   "source": [
    "%store density_history\n",
    "%store x_particle_history"
   ]
  },
  {
   "cell_type": "code",
   "execution_count": 21,
   "id": "b2cdc585",
   "metadata": {},
   "outputs": [
    {
     "name": "stdout",
     "output_type": "stream",
     "text": [
      "To have a stable simulation, usually r needs to be less than 0.5. Here we have r = 0.056\n"
     ]
    }
   ],
   "source": [
    "r = (dt)/(jnp.prod(dxs))\n",
    "print('To have a stable simulation, usually r needs to be less than 0.5. Here we have r = {:.3f}'.format(r))"
   ]
  },
  {
   "cell_type": "code",
   "execution_count": 22,
   "id": "e33c4012",
   "metadata": {},
   "outputs": [],
   "source": [
    "@partial(jnp.vectorize, signature='(n)->()',excluded=[1,2])\n",
    "def gaussian_kernel_density(point, samples, bandwidth):\n",
    "    scaled_points = bandwidth@(point-samples).T\n",
    "    gaussian_kernel = jnp.exp(-0.5 * jnp.sum(jnp.square(scaled_points),axis=0)) / jnp.power(2 * jnp.pi, 0.5*point.shape[0])\n",
    "    return jnp.sum(gaussian_kernel)/samples.shape[0]  \n",
    "\n",
    "@jit\n",
    "def gkd_history(grids, x_particle_history, bandwith):\n",
    "    @jit \n",
    "    def scanned_fun(_carry,_input):\n",
    "        _samples = _input\n",
    "        _a_density = gaussian_kernel_density(grids,_samples,bandwith)\n",
    "        return _carry, _a_density\n",
    "    _, gkd_history = scan(scanned_fun,[],x_particle_history)\n",
    "    return gkd_history\n",
    "\n",
    "# @partial(jnp.vectorize, signature='(n)->()',excluded=[1,2])\n",
    "# def epanechnikov_kernel_density(point, samples, bandwidth):\n",
    "#     scaled_points = jnp.maximum(0, (point-samples)/bandwidth)\n",
    "#     _kernel = 0.75*(1 - jnp.sum(jnp.square(scaled_points),axis=-1))\n",
    "#     return jnp.sum(_kernel)/samples.shape[0]  "
   ]
  },
  {
   "cell_type": "code",
   "execution_count": 23,
   "id": "1b8c2fbb",
   "metadata": {},
   "outputs": [],
   "source": [
    "@partial(jnp.vectorize,signature='(n,n),(n,n)->()',excluded=(2,))\n",
    "def hellinger_distance(den_1,den_2,dxs):\n",
    "    delta_sqrt_dens = jnp.sqrt(jnp.maximum(den_1,0)) - jnp.sqrt(jnp.maximum(den_2,0))\n",
    "    return 0.5*jnp.trapz(jnp.trapz(jnp.square(delta_sqrt_dens), dx=dxs[0], axis=0), dx=dxs[1])"
   ]
  },
  {
   "cell_type": "code",
   "execution_count": 26,
   "id": "555f2ebf",
   "metadata": {},
   "outputs": [],
   "source": [
    "particle_kde_density_history = []\n",
    "thinning = 4\n",
    "kde_bandwidth_multiplier = 30\n",
    "Sigma_inverse = jnp.linalg.solve(jnp.eye(2),jnp.cov(x_particle_history[0].T))\n",
    "kde_bandwidth = kde_bandwidth_multiplier*jnp.linalg.cholesky(Sigma_inverse)\n",
    "# for time_index in tqdm(range(density_history.shape[0])):\n",
    "#     particle_kde_density_history.append(gaussian_kernel_density(grids,x_particle_history[time_index,::thinning,:],kde_bandwidth))\n",
    "particle_kde_density_history = gkd_history(grids,x_particle_history[:,::thinning,:],kde_bandwidth)"
   ]
  },
  {
   "cell_type": "code",
   "execution_count": 27,
   "id": "54e627da",
   "metadata": {},
   "outputs": [
    {
     "data": {
      "text/plain": [
       "<matplotlib.image.AxesImage at 0x7f081fa92be0>"
      ]
     },
     "execution_count": 27,
     "metadata": {},
     "output_type": "execute_result"
    },
    {
     "data": {
      "image/png": "[encoded data removed]",
      "text/plain": [
       "<Figure size 1350x450 with 3 Axes>"
      ]
     },
     "metadata": {
      "needs_background": "light"
     },
     "output_type": "display_data"
    }
   ],
   "source": [
    "fig, axs=plt.subplots(1,3,dpi=150,figsize=(9,3))\n",
    "time_index=7000\n",
    "axs[0].imshow(density_history[time_index].T)\n",
    "axs[1].imshow(pf_density_history[time_index])\n",
    "axs[2].imshow(particle_kde_density_history[time_index])"
   ]
  },
  {
   "cell_type": "code",
   "execution_count": 32,
   "id": "a431edfb",
   "metadata": {},
   "outputs": [],
   "source": [
    "hell_dists = hellinger_distance(jnp.transpose(density_history,axes=(0,2,1)),pf_density_history,dxs)\n",
    "hell_dists_par = hellinger_distance(jnp.transpose(density_history,axes=(0,2,1)),particle_kde_density_history,dxs)"
   ]
  },
  {
   "cell_type": "code",
   "execution_count": 34,
   "id": "b4e5ccb8",
   "metadata": {},
   "outputs": [
    {
     "data": {
      "image/png": "[encoded data removed]",
      "text/plain": [
       "<Figure size 900x600 with 1 Axes>"
      ]
     },
     "metadata": {
      "needs_background": "light"
     },
     "output_type": "display_data"
    }
   ],
   "source": [
    "plt.figure(dpi=150)\n",
    "index_end=nt\n",
    "plt.semilogy(tspan[1:index_end+1],hell_dists[:index_end],linewidth=0.5,color='black',label='KS-CN vs Proj')\n",
    "plt.semilogy(tspan[1:index_end+1],hell_dists_par[:index_end],'-.k',linewidth=0.5,label='KS-CN vs Particle')\n",
    "plt.xlabel('t')\n",
    "plt.legend()\n",
    "plt.ylabel('Hellinger-distance')\n",
    "plt.savefig('plots/Zakai_CN_Brigo_Particle_Comparison/Hellinger_vdp_two_d.pdf')"
   ]
  },
  {
   "cell_type": "code",
   "execution_count": 40,
   "id": "884191e3",
   "metadata": {},
   "outputs": [],
   "source": [
    "def set_colorbar(ax,im,fg_color):\n",
    "    cbaxes = inset_axes(ax, width=\"40%\", height=\"3%\", loc=1) \n",
    "    cb = fig.colorbar(im,cax=cbaxes, orientation='horizontal')\n",
    "    cb.outline.set_edgecolor(fg_color)\n",
    "    cb.ax.xaxis.set_tick_params(color=fg_color)\n",
    "    plt.setp(plt.getp(cb.ax.axes, 'xticklabels'), color=fg_color)\n",
    "    cb.ax.axes.get_xticklabels()\n",
    "    plt.setp(cb.ax.axes.get_xticklabels(), fontsize=6)"
   ]
  },
  {
   "cell_type": "code",
   "execution_count": 41,
   "id": "6ec1e045",
   "metadata": {},
   "outputs": [],
   "source": [
    "@partial(onp.vectorize,signature='(n),(n)->(m,m)')\n",
    "def histogram2d(particle_x,particle_y):\n",
    "    density,_,_= onp.histogram2d(particle_x,particle_y,range=ranges,bins=bins,density=True)\n",
    "    return density"
   ]
  },
  {
   "cell_type": "code",
   "execution_count": 27,
   "id": "b023b558",
   "metadata": {},
   "outputs": [],
   "source": [
    "# f, ax = plt.subplots(1,4,dpi=150)\n",
    "# time_index= (nt*50)//100\n",
    "# density_hist = histogram2d(x_particle_history[time_index,:,0],x_particle_history[time_index,:,1])\n",
    "# density_kde = gaussian_kernel_density(grids,x_particle_history[time_index,::5*thinning,:],2e-1)\n",
    "# ax[0].imshow(pf_density_history[time_index],extent=[-max_limit,max_limit,-max_limit,max_limit])\n",
    "# ax[1].imshow(density_kde,extent=[-max_limit,max_limit,-max_limit,max_limit])\n",
    "# ax[2].imshow(density_hist.T,extent=[-max_limit,max_limit,-max_limit,max_limit])\n",
    "# ax[3].imshow(density_history[time_index].T,extent=[-max_limit,max_limit,-max_limit,max_limit])"
   ]
  },
  {
   "cell_type": "code",
   "execution_count": 28,
   "id": "590f0a67",
   "metadata": {},
   "outputs": [],
   "source": [
    "# density_hist = histogram2d(x_particle_history[:,:,0],x_particle_history[:,:,1])"
   ]
  },
  {
   "cell_type": "code",
   "execution_count": 29,
   "id": "05ff047c",
   "metadata": {},
   "outputs": [],
   "source": [
    "moments_projection_filter = em_pf.exponential_density.natural_statistics_expectation(em_pf.state_history)"
   ]
  },
  {
   "cell_type": "code",
   "execution_count": 30,
   "id": "37653ae3",
   "metadata": {},
   "outputs": [],
   "source": [
    "moment_grids = em_pf.exponential_density.natural_statistics(pde_filter.grids)\n",
    "moment_grids = jnp.swapaxes(jnp.swapaxes(moment_grids,2,0),1,2)\n",
    "@partial(jnp.vectorize,signature='(n,n)->(m)')\n",
    "def compute_zakai_moment(a_density):\n",
    "    moments = jnp.trapz(jnp.trapz(a_density*moment_grids,dx=dxs[1],axis=2),dx=dxs[0],axis=1)\n",
    "    return moments"
   ]
  },
  {
   "cell_type": "code",
   "execution_count": 31,
   "id": "c5fbaca5",
   "metadata": {},
   "outputs": [],
   "source": [
    "moments_zakai_filter = onp.zeros((density_history.shape[0],moment_grids.shape[0]))\n",
    "for i_ in range(density_history.shape[0]):\n",
    "#     density_ /= jnp.trapz(jnp.trapz(density_history[i_],dx=dxs[1],axis=1),dx=dxs[0],axis=0)\n",
    "    moments_zakai_filter[i_] =  compute_zakai_moment(density_history[i_])"
   ]
  },
  {
   "cell_type": "code",
   "execution_count": 32,
   "id": "078fadce",
   "metadata": {},
   "outputs": [],
   "source": [
    "sums = em_pf.exponential_density.natural_statistics(x_particle_history)"
   ]
  },
  {
   "cell_type": "code",
   "execution_count": 33,
   "id": "8188b554",
   "metadata": {},
   "outputs": [],
   "source": [
    "moments_particle_filter = jnp.mean(sums,axis=1)"
   ]
  },
  {
   "cell_type": "code",
   "execution_count": 34,
   "id": "898b02bc",
   "metadata": {},
   "outputs": [],
   "source": [
    "skip = 100\n",
    "density_history = density_history[::skip] # reduce memory print\n",
    "pf_density_history = pf_density_history[::skip]\n",
    "x_particle_history = x_particle_history[::skip]"
   ]
  },
  {
   "cell_type": "code",
   "execution_count": 56,
   "id": "3b287516",
   "metadata": {},
   "outputs": [
    {
     "name": "stderr",
     "output_type": "stream",
     "text": [
      "<ipython-input-56-5f589eb07a5c>:71: UserWarning: This figure includes Axes that are not compatible with tight_layout, so results might be incorrect.\n",
      "  plt.tight_layout()\n",
      "<ipython-input-56-5f589eb07a5c>:71: UserWarning: This figure includes Axes that are not compatible with tight_layout, so results might be incorrect.\n",
      "  plt.tight_layout()\n",
      "<ipython-input-56-5f589eb07a5c>:71: UserWarning: This figure includes Axes that are not compatible with tight_layout, so results might be incorrect.\n",
      "  plt.tight_layout()\n",
      "<ipython-input-56-5f589eb07a5c>:71: UserWarning: This figure includes Axes that are not compatible with tight_layout, so results might be incorrect.\n",
      "  plt.tight_layout()\n",
      "<ipython-input-56-5f589eb07a5c>:71: UserWarning: This figure includes Axes that are not compatible with tight_layout, so results might be incorrect.\n",
      "  plt.tight_layout()\n",
      "<ipython-input-56-5f589eb07a5c>:71: UserWarning: This figure includes Axes that are not compatible with tight_layout, so results might be incorrect.\n",
      "  plt.tight_layout()\n",
      "<ipython-input-56-5f589eb07a5c>:71: UserWarning: This figure includes Axes that are not compatible with tight_layout, so results might be incorrect.\n",
      "  plt.tight_layout()\n",
      "<ipython-input-56-5f589eb07a5c>:71: UserWarning: This figure includes Axes that are not compatible with tight_layout, so results might be incorrect.\n",
      "  plt.tight_layout()\n",
      "<ipython-input-56-5f589eb07a5c>:71: UserWarning: This figure includes Axes that are not compatible with tight_layout, so results might be incorrect.\n",
      "  plt.tight_layout()\n",
      "<ipython-input-56-5f589eb07a5c>:71: UserWarning: This figure includes Axes that are not compatible with tight_layout, so results might be incorrect.\n",
      "  plt.tight_layout()\n",
      "<ipython-input-56-5f589eb07a5c>:71: UserWarning: This figure includes Axes that are not compatible with tight_layout, so results might be incorrect.\n",
      "  plt.tight_layout()\n",
      "<ipython-input-56-5f589eb07a5c>:71: UserWarning: This figure includes Axes that are not compatible with tight_layout, so results might be incorrect.\n",
      "  plt.tight_layout()\n",
      "<ipython-input-56-5f589eb07a5c>:71: UserWarning: This figure includes Axes that are not compatible with tight_layout, so results might be incorrect.\n",
      "  plt.tight_layout()\n",
      "<ipython-input-56-5f589eb07a5c>:71: UserWarning: This figure includes Axes that are not compatible with tight_layout, so results might be incorrect.\n",
      "  plt.tight_layout()\n",
      "<ipython-input-56-5f589eb07a5c>:71: UserWarning: This figure includes Axes that are not compatible with tight_layout, so results might be incorrect.\n",
      "  plt.tight_layout()\n",
      "<ipython-input-56-5f589eb07a5c>:71: UserWarning: This figure includes Axes that are not compatible with tight_layout, so results might be incorrect.\n",
      "  plt.tight_layout()\n",
      "<ipython-input-56-5f589eb07a5c>:71: UserWarning: This figure includes Axes that are not compatible with tight_layout, so results might be incorrect.\n",
      "  plt.tight_layout()\n",
      "<ipython-input-56-5f589eb07a5c>:71: UserWarning: This figure includes Axes that are not compatible with tight_layout, so results might be incorrect.\n",
      "  plt.tight_layout()\n",
      "<ipython-input-56-5f589eb07a5c>:71: UserWarning: This figure includes Axes that are not compatible with tight_layout, so results might be incorrect.\n",
      "  plt.tight_layout()\n",
      "<ipython-input-56-5f589eb07a5c>:71: UserWarning: This figure includes Axes that are not compatible with tight_layout, so results might be incorrect.\n",
      "  plt.tight_layout()\n",
      "<ipython-input-56-5f589eb07a5c>:71: UserWarning: This figure includes Axes that are not compatible with tight_layout, so results might be incorrect.\n",
      "  plt.tight_layout()\n",
      "<ipython-input-56-5f589eb07a5c>:71: UserWarning: This figure includes Axes that are not compatible with tight_layout, so results might be incorrect.\n",
      "  plt.tight_layout()\n",
      "<ipython-input-56-5f589eb07a5c>:71: UserWarning: This figure includes Axes that are not compatible with tight_layout, so results might be incorrect.\n",
      "  plt.tight_layout()\n",
      "<ipython-input-56-5f589eb07a5c>:71: UserWarning: This figure includes Axes that are not compatible with tight_layout, so results might be incorrect.\n",
      "  plt.tight_layout()\n",
      "<ipython-input-56-5f589eb07a5c>:71: UserWarning: This figure includes Axes that are not compatible with tight_layout, so results might be incorrect.\n",
      "  plt.tight_layout()\n",
      "<ipython-input-56-5f589eb07a5c>:71: UserWarning: This figure includes Axes that are not compatible with tight_layout, so results might be incorrect.\n",
      "  plt.tight_layout()\n",
      "<ipython-input-56-5f589eb07a5c>:71: UserWarning: This figure includes Axes that are not compatible with tight_layout, so results might be incorrect.\n",
      "  plt.tight_layout()\n",
      "<ipython-input-56-5f589eb07a5c>:71: UserWarning: This figure includes Axes that are not compatible with tight_layout, so results might be incorrect.\n",
      "  plt.tight_layout()\n",
      "<ipython-input-56-5f589eb07a5c>:71: UserWarning: This figure includes Axes that are not compatible with tight_layout, so results might be incorrect.\n",
      "  plt.tight_layout()\n",
      "<ipython-input-56-5f589eb07a5c>:71: UserWarning: This figure includes Axes that are not compatible with tight_layout, so results might be incorrect.\n",
      "  plt.tight_layout()\n",
      "<ipython-input-56-5f589eb07a5c>:71: UserWarning: This figure includes Axes that are not compatible with tight_layout, so results might be incorrect.\n",
      "  plt.tight_layout()\n",
      "<ipython-input-56-5f589eb07a5c>:71: UserWarning: This figure includes Axes that are not compatible with tight_layout, so results might be incorrect.\n",
      "  plt.tight_layout()\n",
      "<ipython-input-56-5f589eb07a5c>:71: UserWarning: This figure includes Axes that are not compatible with tight_layout, so results might be incorrect.\n",
      "  plt.tight_layout()\n",
      "<ipython-input-56-5f589eb07a5c>:71: UserWarning: This figure includes Axes that are not compatible with tight_layout, so results might be incorrect.\n",
      "  plt.tight_layout()\n",
      "<ipython-input-56-5f589eb07a5c>:71: UserWarning: This figure includes Axes that are not compatible with tight_layout, so results might be incorrect.\n",
      "  plt.tight_layout()\n",
      "<ipython-input-56-5f589eb07a5c>:71: UserWarning: This figure includes Axes that are not compatible with tight_layout, so results might be incorrect.\n",
      "  plt.tight_layout()\n",
      "<ipython-input-56-5f589eb07a5c>:71: UserWarning: This figure includes Axes that are not compatible with tight_layout, so results might be incorrect.\n",
      "  plt.tight_layout()\n",
      "<ipython-input-56-5f589eb07a5c>:71: UserWarning: This figure includes Axes that are not compatible with tight_layout, so results might be incorrect.\n",
      "  plt.tight_layout()\n",
      "<ipython-input-56-5f589eb07a5c>:71: UserWarning: This figure includes Axes that are not compatible with tight_layout, so results might be incorrect.\n",
      "  plt.tight_layout()\n",
      "<ipython-input-56-5f589eb07a5c>:71: UserWarning: This figure includes Axes that are not compatible with tight_layout, so results might be incorrect.\n",
      "  plt.tight_layout()\n",
      "<ipython-input-56-5f589eb07a5c>:71: UserWarning: This figure includes Axes that are not compatible with tight_layout, so results might be incorrect.\n",
      "  plt.tight_layout()\n",
      "<ipython-input-56-5f589eb07a5c>:71: UserWarning: This figure includes Axes that are not compatible with tight_layout, so results might be incorrect.\n",
      "  plt.tight_layout()\n",
      "<ipython-input-56-5f589eb07a5c>:71: UserWarning: This figure includes Axes that are not compatible with tight_layout, so results might be incorrect.\n",
      "  plt.tight_layout()\n",
      "<ipython-input-56-5f589eb07a5c>:71: UserWarning: This figure includes Axes that are not compatible with tight_layout, so results might be incorrect.\n",
      "  plt.tight_layout()\n",
      "<ipython-input-56-5f589eb07a5c>:71: UserWarning: This figure includes Axes that are not compatible with tight_layout, so results might be incorrect.\n",
      "  plt.tight_layout()\n",
      "<ipython-input-56-5f589eb07a5c>:71: UserWarning: This figure includes Axes that are not compatible with tight_layout, so results might be incorrect.\n",
      "  plt.tight_layout()\n",
      "<ipython-input-56-5f589eb07a5c>:71: UserWarning: This figure includes Axes that are not compatible with tight_layout, so results might be incorrect.\n",
      "  plt.tight_layout()\n",
      "<ipython-input-56-5f589eb07a5c>:71: UserWarning: This figure includes Axes that are not compatible with tight_layout, so results might be incorrect.\n",
      "  plt.tight_layout()\n",
      "<ipython-input-56-5f589eb07a5c>:71: UserWarning: This figure includes Axes that are not compatible with tight_layout, so results might be incorrect.\n",
      "  plt.tight_layout()\n",
      "<ipython-input-56-5f589eb07a5c>:71: UserWarning: This figure includes Axes that are not compatible with tight_layout, so results might be incorrect.\n",
      "  plt.tight_layout()\n",
      "<ipython-input-56-5f589eb07a5c>:71: UserWarning: This figure includes Axes that are not compatible with tight_layout, so results might be incorrect.\n",
      "  plt.tight_layout()\n",
      "<ipython-input-56-5f589eb07a5c>:71: UserWarning: This figure includes Axes that are not compatible with tight_layout, so results might be incorrect.\n",
      "  plt.tight_layout()\n",
      "<ipython-input-56-5f589eb07a5c>:71: UserWarning: This figure includes Axes that are not compatible with tight_layout, so results might be incorrect.\n",
      "  plt.tight_layout()\n",
      "<ipython-input-56-5f589eb07a5c>:71: UserWarning: This figure includes Axes that are not compatible with tight_layout, so results might be incorrect.\n",
      "  plt.tight_layout()\n",
      "<ipython-input-56-5f589eb07a5c>:71: UserWarning: This figure includes Axes that are not compatible with tight_layout, so results might be incorrect.\n",
      "  plt.tight_layout()\n",
      "<ipython-input-56-5f589eb07a5c>:71: UserWarning: This figure includes Axes that are not compatible with tight_layout, so results might be incorrect.\n",
      "  plt.tight_layout()\n",
      "<ipython-input-56-5f589eb07a5c>:71: UserWarning: This figure includes Axes that are not compatible with tight_layout, so results might be incorrect.\n",
      "  plt.tight_layout()\n",
      "<ipython-input-56-5f589eb07a5c>:71: UserWarning: This figure includes Axes that are not compatible with tight_layout, so results might be incorrect.\n",
      "  plt.tight_layout()\n",
      "<ipython-input-56-5f589eb07a5c>:71: UserWarning: This figure includes Axes that are not compatible with tight_layout, so results might be incorrect.\n",
      "  plt.tight_layout()\n",
      "<ipython-input-56-5f589eb07a5c>:71: UserWarning: This figure includes Axes that are not compatible with tight_layout, so results might be incorrect.\n",
      "  plt.tight_layout()\n",
      "<ipython-input-56-5f589eb07a5c>:71: UserWarning: This figure includes Axes that are not compatible with tight_layout, so results might be incorrect.\n",
      "  plt.tight_layout()\n",
      "<ipython-input-56-5f589eb07a5c>:71: UserWarning: This figure includes Axes that are not compatible with tight_layout, so results might be incorrect.\n",
      "  plt.tight_layout()\n",
      "<ipython-input-56-5f589eb07a5c>:71: UserWarning: This figure includes Axes that are not compatible with tight_layout, so results might be incorrect.\n",
      "  plt.tight_layout()\n",
      "<ipython-input-56-5f589eb07a5c>:71: UserWarning: This figure includes Axes that are not compatible with tight_layout, so results might be incorrect.\n",
      "  plt.tight_layout()\n",
      "<ipython-input-56-5f589eb07a5c>:71: UserWarning: This figure includes Axes that are not compatible with tight_layout, so results might be incorrect.\n",
      "  plt.tight_layout()\n",
      "<ipython-input-56-5f589eb07a5c>:71: UserWarning: This figure includes Axes that are not compatible with tight_layout, so results might be incorrect.\n",
      "  plt.tight_layout()\n",
      "<ipython-input-56-5f589eb07a5c>:71: UserWarning: This figure includes Axes that are not compatible with tight_layout, so results might be incorrect.\n",
      "  plt.tight_layout()\n",
      "<ipython-input-56-5f589eb07a5c>:71: UserWarning: This figure includes Axes that are not compatible with tight_layout, so results might be incorrect.\n",
      "  plt.tight_layout()\n",
      "<ipython-input-56-5f589eb07a5c>:71: UserWarning: This figure includes Axes that are not compatible with tight_layout, so results might be incorrect.\n",
      "  plt.tight_layout()\n",
      "<ipython-input-56-5f589eb07a5c>:71: UserWarning: This figure includes Axes that are not compatible with tight_layout, so results might be incorrect.\n",
      "  plt.tight_layout()\n",
      "<ipython-input-56-5f589eb07a5c>:71: UserWarning: This figure includes Axes that are not compatible with tight_layout, so results might be incorrect.\n",
      "  plt.tight_layout()\n",
      "<ipython-input-56-5f589eb07a5c>:71: UserWarning: This figure includes Axes that are not compatible with tight_layout, so results might be incorrect.\n",
      "  plt.tight_layout()\n",
      "<ipython-input-56-5f589eb07a5c>:71: UserWarning: This figure includes Axes that are not compatible with tight_layout, so results might be incorrect.\n",
      "  plt.tight_layout()\n",
      "<ipython-input-56-5f589eb07a5c>:71: UserWarning: This figure includes Axes that are not compatible with tight_layout, so results might be incorrect.\n",
      "  plt.tight_layout()\n",
      "<ipython-input-56-5f589eb07a5c>:71: UserWarning: This figure includes Axes that are not compatible with tight_layout, so results might be incorrect.\n",
      "  plt.tight_layout()\n"
     ]
    }
   ],
   "source": [
    "use_kde = True\n",
    "# thinning = 4\n",
    "# kde_bandwidth_multiplier = 30\n",
    "for time_index in jnp.arange(0,pf_density_history.shape[0]):\n",
    "    fig, axs=plt.subplots(1,3,dpi=150,figsize=(9,3))\n",
    "    fg_color = fg_color = 'black'\n",
    "    cmap = plt.cm.Blues\n",
    "    density_zakai = density_history[time_index].T    \n",
    "    density_zakai /= jnp.trapz(jnp.trapz(density_zakai,dx=dxs[1],axis=1),dx=dx[0],axis=0)\n",
    "    \n",
    "    max_density_zakai = jnp.max(jnp.abs(density_zakai))\n",
    "    \n",
    "    density_pf = pf_density_history[time_index]\n",
    "    density_pf /= jnp.trapz(jnp.trapz(density_pf,dx=dxs[1],axis=1),dx=dx[0],axis=0)\n",
    "    max_density_pf = max_density = jnp.max(jnp.abs(density_pf))\n",
    "    \n",
    "    Sigma_inverse = jnp.linalg.solve(jnp.eye(2),jnp.cov(x_particle_history[0].T))\n",
    "    kde_bandwidth = kde_bandwidth_multiplier*jnp.linalg.cholesky(Sigma_inverse)\n",
    "    \n",
    "    if use_kde:\n",
    "#         density_par_f = gaussian_kernel_density(grids,x_particle_history[time_index,::thinning,:],kde_bandwidth)\n",
    "        density_par_f = \n",
    "    else:\n",
    "        density_par_f = histogram2d(x_particle_history[time_index,:,0],x_particle_history[time_index,:,1]).T\n",
    "    density_par_f /= jnp.trapz(jnp.trapz(density_par_f,dx=dxs[1],axis=1),dx=dx[0],axis=0)\n",
    "    max_density_par_f = jnp.max(jnp.abs(density_par_f))\n",
    "    \n",
    "    max_density = jnp.max(jnp.array([max_density_zakai,max_density_par_f,max_density_pf]))\n",
    "    im0 = axs[0].imshow(density_zakai,cmap=cmap,vmin=0,vmax=max_density,extent=grid_limits.ravel(), \n",
    "                   origin='lower',\n",
    "                   alpha=1,\n",
    "                  interpolation=interpolation)\n",
    "    set_colorbar(axs[0],im0,fg_color)\n",
    "    axs[0].set_title('Crank-Nicolson Solution t={:.3f}'.format(time_index*skip*dt),loc='center')\n",
    "    \n",
    "    \n",
    "    im1 = axs[1].imshow(density_pf,cmap=cmap,vmin=0,vmax=max_density,extent=grid_limits.ravel(), \n",
    "                   origin='lower',\n",
    "                   alpha=1,\n",
    "                  interpolation=interpolation)\n",
    "    set_colorbar(axs[1],im1,fg_color)\n",
    "    axs[1].set_title('Projection Density t={:.3f}'.format(time_index*skip*dt),loc='center')\n",
    "    \n",
    "    \n",
    "    im2 = axs[2].imshow(density_par_f,cmap=cmap,vmin=0,vmax=max_density,extent=grid_limits.ravel(), \n",
    "                   origin='lower',\n",
    "                   alpha=1,\n",
    "                  interpolation=interpolation)\n",
    "    set_colorbar(axs[2],im2,fg_color)\n",
    "    axs[2].set_title('Particle Density t={:.3f}'.format(time_index*skip*dt),loc='center')\n",
    "    \n",
    "#     difference = density_pf-density_zakai\n",
    "#     difference_par = density_par_f-density_zakai\n",
    "# #     max_difference = #max(max_density,max_density_pf)\n",
    "#     max_difference_brigo = max(jnp.abs(jnp.min(difference)),jnp.abs(jnp.max(difference)))\n",
    "#     max_difference_par   = max(jnp.abs(jnp.min(difference_par)),jnp.abs(jnp.max(difference_par)))\n",
    "#     max_difference = max(max_difference_brigo,max_difference_par)\n",
    "#     im3 = axs[3].imshow(difference,cmap=plt.cm.seismic_r,vmin=-max_difference,vmax=max_difference,extent=grid_limits.ravel(), \n",
    "#                    origin='lower',\n",
    "#                    alpha=1,\n",
    "#                   interpolation=interpolation)\n",
    "#     set_colorbar(axs[3],im3,fg_color)\n",
    "#     axs[3].set_title('Brigo-Zakai t={:.3f}'.format(time_index*skip*dt),loc='center')\n",
    "#     plt.tight_layout()\n",
    "\n",
    "#     im4 = axs[4].imshow(difference_par,cmap=plt.cm.seismic_r,vmin=-max_difference,vmax=max_difference,extent=grid_limits.ravel(), \n",
    "#                    origin='lower',\n",
    "#                    alpha=1,\n",
    "#                   interpolation=interpolation)\n",
    "#     set_colorbar(axs[4],im4,fg_color)\n",
    "#     axs[4].set_title('Particle-Zakai t={:.3f}'.format(time_index*skip*dt),loc='center')\n",
    "    plt.tight_layout()\n",
    "    plt.savefig('plots/Zakai_CN_Brigo_Particle_Comparison/plot_t_{:.3f}_nodes_number_{}.pdf'.format(time_index*skip*dt,em_pf.exponential_density.nodes_number))\n",
    "    plt.close()"
   ]
  },
  {
   "cell_type": "code",
   "execution_count": 36,
   "id": "3c29f88b",
   "metadata": {},
   "outputs": [],
   "source": [
    "statistics_str = [str(stat).replace('**', '^').replace(\n",
    "        'x1', 'x_1').replace('x2', 'x_2').replace('*', '') for stat in natural_statistics_symbolic]"
   ]
  },
  {
   "cell_type": "code",
   "execution_count": 38,
   "id": "77003b97",
   "metadata": {},
   "outputs": [],
   "source": [
    "for natural_statistics_index in range(natural_statistics_symbolic.shape[0]):\n",
    "    plt.figure(dpi=150)\n",
    "    index_end=nt\n",
    "    plt.plot(tspan[1:index_end+1],moments_projection_filter[:index_end,natural_statistics_index],color='blue',label='Projection',linewidth=0.5)\n",
    "    plt.plot(tspan[1:index_end+1],moments_particle_filter[:index_end,natural_statistics_index],color='black',label='Particle',linewidth=0.5)\n",
    "    plt.plot(tspan[1:index_end+1],moments_zakai_filter[:index_end,natural_statistics_index],color='red',label='Crank-Nicolson',linewidth=0.5)\n",
    "    plt.legend()\n",
    "    plt.xlabel('t')\n",
    "    plt.title('$E[{}]$'.format(statistics_str[natural_statistics_index]),loc='center')\n",
    "    plt.tight_layout()\n",
    "    plt.savefig('plots/Zakai_CN_Brigo_Particle_Comparison/Moment_comparison_{}.pdf'.format(natural_statistics_index+1))\n",
    "    plt.close()\n",
    "    plt.figure(dpi=150)\n",
    "    plt.semilogy(tspan[1:index_end+1],jnp.abs(moments_projection_filter[:index_end,natural_statistics_index]-moments_zakai_filter[:index_end,natural_statistics_index])\n",
    "             ,color='blue',label='$|E_a[{}]-E_b[{}]|$'.format(statistics_str[natural_statistics_index],statistics_str[natural_statistics_index]),linewidth=0.5)\n",
    "    plt.semilogy(tspan[1:index_end+1],jnp.abs(moments_particle_filter[:index_end,natural_statistics_index]-moments_zakai_filter[:index_end,natural_statistics_index])\n",
    "             ,color='black',label='$|E_a[{}]-E_c[{}]|$'.format(statistics_str[natural_statistics_index],statistics_str[natural_statistics_index]),linewidth=0.5)\n",
    "    plt.legend()\n",
    "    plt.xlabel('t')\n",
    "#     plt.title('Absolute value in the difference of $E[{}]$,'.format(statistics_str[natural_statistics_index],statistics_str[natural_statistics_index]),loc='center')\n",
    "    plt.tight_layout()\n",
    "    plt.savefig('plots/Zakai_CN_Brigo_Particle_Comparison/Moment_Errors_{}.pdf'.format(natural_statistics_index+1))\n",
    "    plt.close()"
   ]
  },
  {
   "cell_type": "code",
   "execution_count": 37,
   "id": "cce8356c",
   "metadata": {},
   "outputs": [
    {
     "data": {
      "text/plain": [
       "(30, 2500, 2)"
      ]
     },
     "execution_count": 37,
     "metadata": {},
     "output_type": "execute_result"
    }
   ],
   "source": [
    "x_particle_history.shape"
   ]
  },
  {
   "cell_type": "code",
   "execution_count": null,
   "id": "8955d0b8",
   "metadata": {},
   "outputs": [],
   "source": []
  }
 ],
 "metadata": {
  "kernelspec": {
   "display_name": "Python 3",
   "language": "python",
   "name": "python3"
  },
  "language_info": {
   "codemirror_mode": {
    "name": "ipython",
    "version": 3
   },
   "file_extension": ".py",
   "mimetype": "text/x-python",
   "name": "python",
   "nbconvert_exporter": "python",
   "pygments_lexer": "ipython3",
   "version": "3.8.5"
  }
 },
 "nbformat": 4,
 "nbformat_minor": 5
}
